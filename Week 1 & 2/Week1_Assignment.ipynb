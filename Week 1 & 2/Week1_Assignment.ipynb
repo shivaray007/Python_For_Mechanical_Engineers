{
  "nbformat": 4,
  "nbformat_minor": 0,
  "metadata": {
    "colab": {
      "name": "Week1_Assignment.ipynb",
      "provenance": [],
      "collapsed_sections": []
    },
    "kernelspec": {
      "name": "python3",
      "display_name": "Python 3"
    },
    "language_info": {
      "name": "python"
    }
  },
  "cells": [
    {
      "cell_type": "markdown",
      "metadata": {
        "id": "-6HRh6RuLeFT"
      },
      "source": [
        "# Python Code\n",
        "## Convert to and from F to c\n",
        "\n",
        "C = (5/9)*(F-32)\n",
        "F = (C*(9/5))+32"
      ]
    },
    {
      "cell_type": "code",
      "metadata": {
        "id": "UQ7CEcUkLui3"
      },
      "source": [
        "def celsius(F):\n",
        "  return (5/9)*(F-32)\n",
        "\n",
        "def fahrenheit(C):\n",
        "  return (C*(9/5))+32\n",
        "\n"
      ],
      "execution_count": 1,
      "outputs": []
    },
    {
      "cell_type": "code",
      "metadata": {
        "colab": {
          "base_uri": "https://localhost:8080/"
        },
        "id": "Ac4rnc6yML8z",
        "outputId": "631225d2-a093-476b-8a82-982ffe4af133"
      },
      "source": [
        "while True:\n",
        "  select = int(input(\"Enter 1 for C to F \\nEnter 2 for F to C\\nEnter 3 to exit\\n\"))\n",
        "\n",
        "  if select != 3:\n",
        "    temp = float(input(\"Enter the Temp: \\n\"))\n",
        "  \n",
        "  if select == 1:\n",
        "    print(\"Temp is :\",fahrenheit(temp),'F')\n",
        "  elif select == 2:\n",
        "    print(\"Temp is :\",celsius(temp),'C')\n",
        "  else:\n",
        "    print(\"Exit\")\n",
        "    break\n",
        "\n"
      ],
      "execution_count": 7,
      "outputs": [
        {
          "output_type": "stream",
          "text": [
            "Enter 1 for C to F \n",
            "Enter 2 for F to C\n",
            "Enter 3 to exit\n",
            "1\n",
            "Enter the Temp: \n",
            "10\n",
            "Temp is : 50.0 F\n",
            "Enter 1 for C to F \n",
            "Enter 2 for F to C\n",
            "Enter 3 to exit\n",
            "3\n",
            "Exit\n"
          ],
          "name": "stdout"
        }
      ]
    },
    {
      "cell_type": "code",
      "metadata": {
        "id": "iV-Epke8NCBx"
      },
      "source": [
        ""
      ],
      "execution_count": null,
      "outputs": []
    }
  ]
}
