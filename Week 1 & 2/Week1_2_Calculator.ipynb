{
  "nbformat": 4,
  "nbformat_minor": 0,
  "metadata": {
    "colab": {
      "name": "Week1_2_Calculator.ipynb",
      "provenance": []
    },
    "kernelspec": {
      "name": "python3",
      "display_name": "Python 3"
    },
    "language_info": {
      "name": "python"
    }
  },
  "cells": [
    {
      "cell_type": "markdown",
      "metadata": {
        "id": "4UtArrN2R0t6"
      },
      "source": [
        "# Calculator\n",
        "## Simple Calculator Based on Mathematical Operation for 2 Variables"
      ]
    },
    {
      "cell_type": "code",
      "metadata": {
        "id": "JjrmJ89lUT29"
      },
      "source": [
        "# Function Files \n",
        "def add(a, b):\n",
        "  return a+b\n",
        "\n",
        "def sub(a, b):\n",
        "  return a-b\n",
        "\n",
        "def mul(a, b):\n",
        "  return a*b\n",
        "\n",
        "def div(a, b):\n",
        "  return a/b\n",
        "\n",
        "def div_int(a, b):\n",
        "  return a//b\n",
        "\n",
        "def power(a, b):\n",
        "  return a**b\n"
      ],
      "execution_count": 2,
      "outputs": []
    },
    {
      "cell_type": "code",
      "metadata": {
        "colab": {
          "base_uri": "https://localhost:8080/"
        },
        "id": "c_0jzHnbR9AB",
        "outputId": "82cef18b-d9e1-4663-c68c-72929312f62b"
      },
      "source": [
        "# Selection of Type of Operation\n",
        "print(\"Kindly Select The Operation\\n\")\n",
        "while True:\n",
        "  print(\"1. Addition\\n2. Subtraction\\n3. Multiplication\\n4. Division\\n5. Division (int)\\n6. Power\\n7. Exit\\n\")\n",
        "  Choice = int(input(\"Enter Your Choice: \"))\n",
        "\n",
        "  if Choice!=7:\n",
        "    x, y = [float(i) for i in (input(\"Enter Number\").split(','))]\n",
        "    #x = float(x)\n",
        "    #y = float(y)\n",
        "    #x = float(input(\"Enter the First Number: \"))\n",
        "    #y = float(input(\"Enter the Second Number: \"))\n",
        "\n",
        "  if Choice == 1:\n",
        "    print(\"Addition of {} + {} = {}\\n\".format(x,y,add(x,y)))\n",
        "  elif Choice == 2:\n",
        "    print(\"Subtraction of {} - {} = {}\\n\".format(x,y,sub(x,y)))\n",
        "  elif Choice == 3:\n",
        "    print(\"Multiplication of {} * {} = {}\\n\".format(x,y,mul(x,y)))\n",
        "  elif Choice == 4:\n",
        "    print(\"Division of {} / {} = {}\\n\".format(x,y,div(x,y)))\n",
        "  elif Choice == 5:\n",
        "    print(\"Division(int) of {} // {} = {}\\n\".format(x,y,div_int(x,y)))\n",
        "  elif Choice == 6:\n",
        "    print(\"Power of {} ** {} = {}\\n\".format(x,y,power(x,y)))\n",
        "  else:\n",
        "    break\n"
      ],
      "execution_count": 15,
      "outputs": [
        {
          "output_type": "stream",
          "text": [
            "Kindly Select The Operation\n",
            "\n",
            "1. Addition\n",
            "2. Subtraction\n",
            "3. Multiplication\n",
            "4. Division\n",
            "5. Division (int)\n",
            "6. Power\n",
            "7. Exit\n",
            "\n",
            "Enter Your Choice: 1\n",
            "Enter Number2,3\n",
            "Addition of 2.0 + 3.0 = 5.0\n",
            "\n",
            "1. Addition\n",
            "2. Subtraction\n",
            "3. Multiplication\n",
            "4. Division\n",
            "5. Division (int)\n",
            "6. Power\n",
            "7. Exit\n",
            "\n",
            "Enter Your Choice: 7\n"
          ],
          "name": "stdout"
        }
      ]
    },
    {
      "cell_type": "code",
      "metadata": {
        "id": "3pOOzVaUVeNo"
      },
      "source": [
        ""
      ],
      "execution_count": null,
      "outputs": []
    }
  ]
}
