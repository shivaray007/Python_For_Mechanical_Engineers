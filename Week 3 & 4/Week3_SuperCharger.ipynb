{
  "nbformat": 4,
  "nbformat_minor": 0,
  "metadata": {
    "colab": {
      "name": "Week3_SuperCharger.ipynb",
      "provenance": []
    },
    "kernelspec": {
      "name": "python3",
      "display_name": "Python 3"
    },
    "language_info": {
      "name": "python"
    }
  },
  "cells": [
    {
      "cell_type": "markdown",
      "metadata": {
        "id": "Td8VeYzJ0_XE"
      },
      "source": [
        "# Nishchay N\n",
        "## PES University, Bangalore"
      ]
    },
    {
      "cell_type": "markdown",
      "metadata": {
        "id": "eTrHqovH1JgM"
      },
      "source": [
        "### Problem: \"Super Charger Model 1\""
      ]
    },
    {
      "cell_type": "markdown",
      "metadata": {
        "id": "5DpWyMMv2OaV"
      },
      "source": [
        "# **Input Data**"
      ]
    },
    {
      "cell_type": "markdown",
      "metadata": {
        "id": "7E9HVsTQ2VC0"
      },
      "source": [
        "## Engine Parameters"
      ]
    },
    {
      "cell_type": "code",
      "metadata": {
        "id": "4HUdo1Ub1ZdT"
      },
      "source": [
        "Vs = 0.0028   # Swept Volume (m^3)\n",
        "nm = 80       # Mechanical Efficiency (%)\n",
        "ni = 74       # Isentropic Efficiency (%)\n",
        "Cp = 1.005    # Specific Heat Capacity (J/KgK)"
      ],
      "execution_count": 55,
      "outputs": []
    },
    {
      "cell_type": "markdown",
      "metadata": {
        "id": "JdpjqxRQ2csF"
      },
      "source": [
        "## Super Charger"
      ]
    },
    {
      "cell_type": "code",
      "metadata": {
        "id": "JwkAOP8r1-Pm"
      },
      "source": [
        "p1 = 1.013    # Atmospheric Pressure (bar)\n",
        "t1 = 288      # Atmospheric Temp (K)\n",
        "pr = 1.6      # Pressure Ratio\n",
        "g  = 1.4      # Adibatic Gas Constant\n",
        "R  = 287      # Real Gas Contant (J/KgK)"
      ],
      "execution_count": 56,
      "outputs": []
    },
    {
      "cell_type": "markdown",
      "metadata": {
        "id": "_QdIO4Wt3DPE"
      },
      "source": [
        "Case 1: At a Constant Engine Speed"
      ]
    },
    {
      "cell_type": "code",
      "metadata": {
        "id": "VR3TyNtv29-b"
      },
      "source": [
        "N  = 4000     # Engine Speed (rpm)\n",
        "ip = 12.5     # Avg Indicated Power (KW/m^3)\n",
        "nv = 85       # Volumetric Efficiency (%)"
      ],
      "execution_count": 57,
      "outputs": []
    },
    {
      "cell_type": "code",
      "metadata": {
        "id": "A4Hmu1Ad3adw"
      },
      "source": [
        "# Supercharger Pressure Output\n",
        "p2 = pr*p1    # in bar\n",
        "\n",
        "# Engine Temp Output\n",
        "t21 = t1 * (p2/p1)**((g-1)/g)  # in K\n",
        "\n",
        "# SuperCharger Temp Output\n",
        "t2 = t1+((t21-t1)/(ni/100.0))\n",
        "\n",
        "# Piston Swept Voulme\n",
        "Vs1 = (Vs*(N/2))\n",
        "\n",
        "# Equivalent Volume\n",
        "Ve = (Vs1*p2*t1)/(t2*p1)\n",
        "\n",
        "# Voulmetric Efficiency of SuperCharger\n",
        "nv1 = (Ve/Vs1)*100"
      ],
      "execution_count": 58,
      "outputs": []
    },
    {
      "cell_type": "code",
      "metadata": {
        "id": "cq_kEWZB4qNK"
      },
      "source": [
        "# UnsuperCharger Induced Volume\n",
        "Vi = Vs1*(nv/100.0)\n",
        "\n",
        "# Increment in Induced Volume (Due to Supercharger)\n",
        "Vii = Ve-Vi\n",
        "\n",
        "# Increment in Indicated Power Due to Volume of Air\n",
        "ipa = ip*Vii\n",
        "\n",
        "# Increment in the Indicated Power Due To Pressure of Air\n",
        "ipi = ((p2-p1)*(10**5)*Vs1)/(60*1000)\n",
        "\n",
        "# Total Increment in the Induced Power\n",
        "ipt = ipa + ipi"
      ],
      "execution_count": 59,
      "outputs": []
    },
    {
      "cell_type": "code",
      "metadata": {
        "id": "pxN3ryH56pRW"
      },
      "source": [
        "# Increment in the Brake Power of Engine\n",
        "bp = ipt * (nm/100.0)\n",
        "\n",
        "# Increment of Brake Power without SuperCharger\n",
        "bpe = ip* (nm/100.0)\n",
        "\n",
        "# Mass of Air Delivered to SuperCharger\n",
        "ma = (p2*(Vs1/60.0)*(10**5))/(R*t2)\n",
        "\n",
        "# Power Consumed by SuperCharger\n",
        "P = ma*Cp*(t2-t1)\n",
        "\n",
        "# Power Delivered to the SuperCharger to run\n",
        "Pd = P/(nm/100.0)\n",
        "\n",
        "# Net Increment in Brake Power (Having SuperCharger)\n",
        "bpn = bp - Pd"
      ],
      "execution_count": 60,
      "outputs": []
    },
    {
      "cell_type": "markdown",
      "metadata": {
        "id": "CQkZrpUv8Hb1"
      },
      "source": [
        "Results"
      ]
    },
    {
      "cell_type": "code",
      "metadata": {
        "colab": {
          "base_uri": "https://localhost:8080/"
        },
        "id": "yKr2zYVx8GSE",
        "outputId": "9e99ef05-ee40-404c-e80a-c53e35352e07"
      },
      "source": [
        "print(\"Engine Indicated Power Without Super Charger is {} KW\".format(round(ip)))\n",
        "print(\"Engine Indicated Power With The Super Charger is {} KW\".format(round(ipt)))\n",
        "\n",
        "print(\"Engine Brake Power Without Super Charger is {} KW\".format(round(bpe)))\n",
        "print(\"Engine Brake Power With The Super Charger is {} KW\".format(round(bpn)))\n",
        "\n",
        "print(\"Volumetric Efficiency of the Engine with the SuperCharger is {} %\".format(round(nv1)))"
      ],
      "execution_count": 61,
      "outputs": [
        {
          "output_type": "stream",
          "text": [
            "Engine Indicated Power Without Super Charger is 12 KW\n",
            "Engine Indicated Power With The Super Charger is 40 KW\n",
            "Engine Brake Power Without Super Charger is 10 KW\n",
            "Engine Brake Power With The Super Charger is 21 KW\n",
            "Volumetric Efficiency of the Engine with the SuperCharger is 134 %\n"
          ],
          "name": "stdout"
        }
      ]
    },
    {
      "cell_type": "code",
      "metadata": {
        "id": "nPOIR0RJ8aQn"
      },
      "source": [
        ""
      ],
      "execution_count": 23,
      "outputs": []
    },
    {
      "cell_type": "markdown",
      "metadata": {
        "id": "6oVeYm7N_GLE"
      },
      "source": [
        "Case 2: Analysis of Effects of BP and IP using Engine.csv, Engine o/p with and without supercharger for different speed"
      ]
    },
    {
      "cell_type": "code",
      "metadata": {
        "colab": {
          "base_uri": "https://localhost:8080/"
        },
        "id": "biLxzs-i_c8J",
        "outputId": "c4e483f6-2b55-4650-c1eb-d16bf2203e26"
      },
      "source": [
        "# Importing Required Libraries\n",
        "import pandas as pd\n",
        "print(pd.__version__)"
      ],
      "execution_count": 62,
      "outputs": [
        {
          "output_type": "stream",
          "text": [
            "1.1.5\n"
          ],
          "name": "stdout"
        }
      ]
    },
    {
      "cell_type": "code",
      "metadata": {
        "colab": {
          "base_uri": "https://localhost:8080/",
          "height": 357
        },
        "id": "1BAWD1ws_pu3",
        "outputId": "4e793243-68e7-48d4-b2dd-d5fe5e2cc655"
      },
      "source": [
        "# Importing Engine.csv\n",
        "data = pd.read_csv('Engine.csv')\n",
        "data.head(n=10)"
      ],
      "execution_count": 63,
      "outputs": [
        {
          "output_type": "execute_result",
          "data": {
            "text/html": [
              "<div>\n",
              "<style scoped>\n",
              "    .dataframe tbody tr th:only-of-type {\n",
              "        vertical-align: middle;\n",
              "    }\n",
              "\n",
              "    .dataframe tbody tr th {\n",
              "        vertical-align: top;\n",
              "    }\n",
              "\n",
              "    .dataframe thead th {\n",
              "        text-align: right;\n",
              "    }\n",
              "</style>\n",
              "<table border=\"1\" class=\"dataframe\">\n",
              "  <thead>\n",
              "    <tr style=\"text-align: right;\">\n",
              "      <th></th>\n",
              "      <th>Speed (rpm)</th>\n",
              "      <th>Volumetric Efficiency (%)</th>\n",
              "      <th>Indicated Power (Kw)</th>\n",
              "    </tr>\n",
              "  </thead>\n",
              "  <tbody>\n",
              "    <tr>\n",
              "      <th>0</th>\n",
              "      <td>1000</td>\n",
              "      <td>70</td>\n",
              "      <td>10</td>\n",
              "    </tr>\n",
              "    <tr>\n",
              "      <th>1</th>\n",
              "      <td>2000</td>\n",
              "      <td>76</td>\n",
              "      <td>13</td>\n",
              "    </tr>\n",
              "    <tr>\n",
              "      <th>2</th>\n",
              "      <td>3000</td>\n",
              "      <td>80</td>\n",
              "      <td>16</td>\n",
              "    </tr>\n",
              "    <tr>\n",
              "      <th>3</th>\n",
              "      <td>4000</td>\n",
              "      <td>82</td>\n",
              "      <td>20</td>\n",
              "    </tr>\n",
              "    <tr>\n",
              "      <th>4</th>\n",
              "      <td>5000</td>\n",
              "      <td>85</td>\n",
              "      <td>21</td>\n",
              "    </tr>\n",
              "    <tr>\n",
              "      <th>5</th>\n",
              "      <td>6000</td>\n",
              "      <td>86</td>\n",
              "      <td>22</td>\n",
              "    </tr>\n",
              "    <tr>\n",
              "      <th>6</th>\n",
              "      <td>7000</td>\n",
              "      <td>88</td>\n",
              "      <td>24</td>\n",
              "    </tr>\n",
              "    <tr>\n",
              "      <th>7</th>\n",
              "      <td>8000</td>\n",
              "      <td>90</td>\n",
              "      <td>26</td>\n",
              "    </tr>\n",
              "    <tr>\n",
              "      <th>8</th>\n",
              "      <td>9000</td>\n",
              "      <td>91</td>\n",
              "      <td>28</td>\n",
              "    </tr>\n",
              "    <tr>\n",
              "      <th>9</th>\n",
              "      <td>10000</td>\n",
              "      <td>93</td>\n",
              "      <td>30</td>\n",
              "    </tr>\n",
              "  </tbody>\n",
              "</table>\n",
              "</div>"
            ],
            "text/plain": [
              "   Speed (rpm)  Volumetric Efficiency (%)  Indicated Power (Kw)\n",
              "0         1000                         70                    10\n",
              "1         2000                         76                    13\n",
              "2         3000                         80                    16\n",
              "3         4000                         82                    20\n",
              "4         5000                         85                    21\n",
              "5         6000                         86                    22\n",
              "6         7000                         88                    24\n",
              "7         8000                         90                    26\n",
              "8         9000                         91                    28\n",
              "9        10000                         93                    30"
            ]
          },
          "metadata": {
            "tags": []
          },
          "execution_count": 63
        }
      ]
    },
    {
      "cell_type": "code",
      "metadata": {
        "id": "Jyj2Sz7vACHt"
      },
      "source": [
        "# Supercharger Pressure Output\n",
        "p2 = pr*p1    # in bar\n",
        "\n",
        "# Engine Temp Output\n",
        "t21 = t1 * (p2/p1)**((g-1)/g)  # in K\n",
        "\n",
        "# SuperCharger Temp Output\n",
        "t2 = t1+((t21-t1)/(ni/100.0))\n",
        "\n",
        "# Piston Swept Voulme\n",
        "Vs1 = (Vs*(data['Speed (rpm)']/2))\n",
        "\n",
        "# Equivalent Volume\n",
        "Ve = (Vs1*p2*t1)/(t2*p1)\n",
        "\n",
        "# Voulmetric Efficiency of SuperCharger\n",
        "nv1 = (Ve/Vs1)*100"
      ],
      "execution_count": 64,
      "outputs": []
    },
    {
      "cell_type": "code",
      "metadata": {
        "id": "4jW7OXeqAtaW"
      },
      "source": [
        "# UnsuperCharger Induced Volume\n",
        "Vi = Vs1*(data['Volumetric Efficiency (%)']/100.0)\n",
        "\n",
        "# Increment in Induced Volume (Due to Supercharger)\n",
        "Vii = Ve-Vi\n",
        "\n",
        "# Increment in Indicated Power Due to Volume of Air\n",
        "ipa = data['Indicated Power (Kw)']*Vii\n",
        "\n",
        "# Increment in the Indicated Power Due To Pressure of Air\n",
        "ipi = ((p2-p1)*(10**5)*Vs1/(60*1000))\n",
        "\n",
        "# Total Increment in the Induced Power\n",
        "data['Total Indicated Power (Kw)'] = ipa + ipi"
      ],
      "execution_count": 65,
      "outputs": []
    },
    {
      "cell_type": "code",
      "metadata": {
        "id": "kjLPRHKCBy55"
      },
      "source": [
        "# Increment in the Brake Power of Engine\n",
        "bp = data['Total Indicated Power (Kw)'] * (nm/100.0)\n",
        "\n",
        "# Increment of Brake Power without SuperCharger\n",
        "data['Brake Power Without SuperCharger (Kw)'] = data['Indicated Power (Kw)']* (nm/100.0)\n",
        "\n",
        "# Mass of Air Delivered to SuperCharger\n",
        "ma = (p2*(Vs1/60.0)*(10**5)/(R*t2))\n",
        "\n",
        "# Power Consumed by SuperCharger\n",
        "P = ma*Cp*(t2-t1)\n",
        "\n",
        "# Power Delivered to the SuperCharger to run\n",
        "Pd = P/(nm/100.0)\n",
        "\n",
        "# Net Increment in Brake Power (Having SuperCharger)\n",
        "data['Net Increment in the brake Power (Kw)'] = bp - Pd"
      ],
      "execution_count": 66,
      "outputs": []
    },
    {
      "cell_type": "code",
      "metadata": {
        "colab": {
          "base_uri": "https://localhost:8080/",
          "height": 357
        },
        "id": "jIBB8CtJCepx",
        "outputId": "81250209-13ce-46db-b046-7eccfad72938"
      },
      "source": [
        "# Viewing Data\n",
        "data.head(n=10)"
      ],
      "execution_count": 67,
      "outputs": [
        {
          "output_type": "execute_result",
          "data": {
            "text/html": [
              "<div>\n",
              "<style scoped>\n",
              "    .dataframe tbody tr th:only-of-type {\n",
              "        vertical-align: middle;\n",
              "    }\n",
              "\n",
              "    .dataframe tbody tr th {\n",
              "        vertical-align: top;\n",
              "    }\n",
              "\n",
              "    .dataframe thead th {\n",
              "        text-align: right;\n",
              "    }\n",
              "</style>\n",
              "<table border=\"1\" class=\"dataframe\">\n",
              "  <thead>\n",
              "    <tr style=\"text-align: right;\">\n",
              "      <th></th>\n",
              "      <th>Speed (rpm)</th>\n",
              "      <th>Volumetric Efficiency (%)</th>\n",
              "      <th>Indicated Power (Kw)</th>\n",
              "      <th>Total Indicated Power (Kw)</th>\n",
              "      <th>Brake Power Without SuperCharger (Kw)</th>\n",
              "      <th>Net Increment in the brake Power (Kw)</th>\n",
              "    </tr>\n",
              "  </thead>\n",
              "  <tbody>\n",
              "    <tr>\n",
              "      <th>0</th>\n",
              "      <td>1000</td>\n",
              "      <td>70</td>\n",
              "      <td>10</td>\n",
              "      <td>10.375257</td>\n",
              "      <td>8.0</td>\n",
              "      <td>5.608021</td>\n",
              "    </tr>\n",
              "    <tr>\n",
              "      <th>1</th>\n",
              "      <td>2000</td>\n",
              "      <td>76</td>\n",
              "      <td>13</td>\n",
              "      <td>23.940748</td>\n",
              "      <td>10.4</td>\n",
              "      <td>13.768230</td>\n",
              "    </tr>\n",
              "    <tr>\n",
              "      <th>2</th>\n",
              "      <td>3000</td>\n",
              "      <td>80</td>\n",
              "      <td>16</td>\n",
              "      <td>40.528472</td>\n",
              "      <td>12.8</td>\n",
              "      <td>24.346225</td>\n",
              "    </tr>\n",
              "    <tr>\n",
              "      <th>3</th>\n",
              "      <td>4000</td>\n",
              "      <td>82</td>\n",
              "      <td>20</td>\n",
              "      <td>63.889254</td>\n",
              "      <td>16.0</td>\n",
              "      <td>40.342666</td>\n",
              "    </tr>\n",
              "    <tr>\n",
              "      <th>4</th>\n",
              "      <td>5000</td>\n",
              "      <td>85</td>\n",
              "      <td>21</td>\n",
              "      <td>79.090096</td>\n",
              "      <td>16.8</td>\n",
              "      <td>49.811156</td>\n",
              "    </tr>\n",
              "    <tr>\n",
              "      <th>5</th>\n",
              "      <td>6000</td>\n",
              "      <td>86</td>\n",
              "      <td>22</td>\n",
              "      <td>97.174349</td>\n",
              "      <td>17.6</td>\n",
              "      <td>61.586374</td>\n",
              "    </tr>\n",
              "    <tr>\n",
              "      <th>6</th>\n",
              "      <td>7000</td>\n",
              "      <td>88</td>\n",
              "      <td>24</td>\n",
              "      <td>118.069953</td>\n",
              "      <td>19.2</td>\n",
              "      <td>75.610673</td>\n",
              "    </tr>\n",
              "    <tr>\n",
              "      <th>7</th>\n",
              "      <td>8000</td>\n",
              "      <td>90</td>\n",
              "      <td>26</td>\n",
              "      <td>139.412381</td>\n",
              "      <td>20.8</td>\n",
              "      <td>89.992430</td>\n",
              "    </tr>\n",
              "    <tr>\n",
              "      <th>8</th>\n",
              "      <td>9000</td>\n",
              "      <td>91</td>\n",
              "      <td>28</td>\n",
              "      <td>164.393630</td>\n",
              "      <td>22.4</td>\n",
              "      <td>107.285246</td>\n",
              "    </tr>\n",
              "    <tr>\n",
              "      <th>9</th>\n",
              "      <td>10000</td>\n",
              "      <td>93</td>\n",
              "      <td>30</td>\n",
              "      <td>186.293703</td>\n",
              "      <td>24.0</td>\n",
              "      <td>122.113120</td>\n",
              "    </tr>\n",
              "  </tbody>\n",
              "</table>\n",
              "</div>"
            ],
            "text/plain": [
              "   Speed (rpm)  ...  Net Increment in the brake Power (Kw)\n",
              "0         1000  ...                               5.608021\n",
              "1         2000  ...                              13.768230\n",
              "2         3000  ...                              24.346225\n",
              "3         4000  ...                              40.342666\n",
              "4         5000  ...                              49.811156\n",
              "5         6000  ...                              61.586374\n",
              "6         7000  ...                              75.610673\n",
              "7         8000  ...                              89.992430\n",
              "8         9000  ...                             107.285246\n",
              "9        10000  ...                             122.113120\n",
              "\n",
              "[10 rows x 6 columns]"
            ]
          },
          "metadata": {
            "tags": []
          },
          "execution_count": 67
        }
      ]
    },
    {
      "cell_type": "markdown",
      "metadata": {
        "id": "X3rJJDvtC6Ad"
      },
      "source": [
        "Plotting"
      ]
    },
    {
      "cell_type": "code",
      "metadata": {
        "id": "0MsC4KMcCgkR"
      },
      "source": [
        "# Indicated Power and Brake Power wrt Engine Speed\n",
        "\n",
        "# Import Required Library\n",
        "import matplotlib.pyplot as plt"
      ],
      "execution_count": 68,
      "outputs": []
    },
    {
      "cell_type": "code",
      "metadata": {
        "colab": {
          "base_uri": "https://localhost:8080/",
          "height": 295
        },
        "id": "IiKBDEYODcad",
        "outputId": "5249f3de-44ef-46ef-bda3-a10ae9dd4660"
      },
      "source": [
        "plt.plot(data['Speed (rpm)'],data['Brake Power Without SuperCharger (Kw)'],'r',label = 'BP Without SuperCharger')\n",
        "plt.plot(data['Speed (rpm)'],data['Indicated Power (Kw)'],'g',label = 'IP Without SuperCharger')\n",
        "plt.title(\"IP and BP without the SuperCharger\")\n",
        "plt.xlabel(\"Engine's Speed (rpm)\")\n",
        "plt.ylabel(\"Power (Kw)\")\n",
        "plt.legend(loc='best')\n",
        "plt.show()"
      ],
      "execution_count": 69,
      "outputs": [
        {
          "output_type": "display_data",
          "data": {
            "image/png": "[encoded data removed]",
            "text/plain": [
              "<Figure size 432x288 with 1 Axes>"
            ]
          },
          "metadata": {
            "tags": [],
            "needs_background": "light"
          }
        }
      ]
    },
    {
      "cell_type": "code",
      "metadata": {
        "colab": {
          "base_uri": "https://localhost:8080/",
          "height": 295
        },
        "id": "2JCsKGxuENEu",
        "outputId": "b688dc92-5cfe-43df-8561-b28a29c10d48"
      },
      "source": [
        "plt.plot(data['Speed (rpm)'],data['Net Increment in the brake Power (Kw)'],'-r',label = 'BP With SuperCharger')\n",
        "plt.plot(data['Speed (rpm)'],data['Brake Power Without SuperCharger (Kw)'],':r',label = 'BP Without SuperCharger')\n",
        "plt.plot(data['Speed (rpm)'],data['Total Indicated Power (Kw)'],'-g',label = 'IP With SuperCharger')\n",
        "plt.plot(data['Speed (rpm)'],data['Indicated Power (Kw)'],':g',label = 'IP Without SuperCharger')\n",
        "plt.title(\"IP and BP with and without the SuperCharger\")\n",
        "plt.xlabel(\"Engine's Speed (rpm)\")\n",
        "plt.ylabel(\"Power (Kw)\")\n",
        "plt.legend(loc='best')\n",
        "plt.show()"
      ],
      "execution_count": 70,
      "outputs": [
        {
          "output_type": "display_data",
          "data": {
            "image/png": "[encoded data removed]",
            "text/plain": [
              "<Figure size 432x288 with 1 Axes>"
            ]
          },
          "metadata": {
            "tags": [],
            "needs_background": "light"
          }
        }
      ]
    },
    {
      "cell_type": "code",
      "metadata": {
        "id": "EeyNxVd3EabP"
      },
      "source": [
        ""
      ],
      "execution_count": null,
      "outputs": []
    }
  ]
}
